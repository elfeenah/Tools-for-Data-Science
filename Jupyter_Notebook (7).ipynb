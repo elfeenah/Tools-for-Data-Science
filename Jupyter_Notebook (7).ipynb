{
 "cells": [
  {
   "cell_type": "markdown",
   "metadata": {},
   "source": [
    "<center>\n",
    "    <img src=\"https://cf-courses-data.s3.us.cloud-object-storage.appdomain.cloud/IBMDeveloperSkillsNetwork-DS0105EN-SkillsNetwork/labs/Module2/images/SN_web_lightmode.png\" width=\"300\" alt=\"cognitiveclass.ai logo\">\n",
    "</center>\n"
   ]
  },
  {
   "cell_type": "markdown",
   "metadata": {},
   "source": [
    "# My Jupyter Notebook on IBM Watson Studio #"
   ]
  },
  {
   "cell_type": "markdown",
   "metadata": {},
   "source": [
    "## **Nafisa Lawal Idris** ##\n",
    "### Data Scientist ###"
   ]
  },
  {
   "cell_type": "markdown",
   "metadata": {},
   "source": [
    "_Data science fascinates me as it provides the necessary tools to uncover hidden patterns and insights from the vast amounts of information generated daily, and I find it incredibly satisfying to use this knowledge to automate tasks and solve real-world problems, while pushing the boundaries of the field_ "
   ]
  },
  {
   "cell_type": "markdown",
   "metadata": {},
   "source": [
    "### Popular Data Science Languages ###\n",
    "1. Python\n",
    "2. R\n",
    "3. SQL\n",
    "4. Java\n",
    "5. Julia\n",
    "6. MATLAB\n",
    "7. Scala\n",
    "8. SAS"
   ]
  },
  {
   "cell_type": "markdown",
   "metadata": {},
   "source": [
    "### Popular Data Science Libraries ###\n",
    "1. NumPy\n",
    "2. Pandas\n",
    "3. Matplotlib\n",
    "4. Scikit-learn\n",
    "5. TensorFlow\n",
    "6. PyTorch\n",
    "7. SciPy\n",
    "8. Statsmodels\n",
    "9. OpenCV\n",
    "10. XGBoost"
   ]
  },
  {
   "cell_type": "markdown",
   "metadata": {},
   "source": [
    "### Table of data science tools ###\n",
    "| Tools | Description|\n",
    "| --- | --- | \n",
    "| Python | General-purpose programming language with extensive support for scientific computing and data analysis| \n",
    "| R | Statistical programming language for data analysis and visualization |\n",
    "| SQL | Query language used for managing and manipulating relational databases| \n",
    "| Tableau | Data visualization tool for creating interactive dashboards and reports |\n",
    "| Power BI | Business intelligence platform for creating visualizations and analyzing data| \n",
    "| Excel | Spreadsheet software with built-in data analysis tools |\n",
    "| Jupyter Notebook | Web application for creating and sharing documents containing live code, equations, visualizations, and narrative text| \n",
    "| Apache Hadoop | Distributed storage and processing system for big data |\n",
    "| Apache Spark | Distributed computing system for processing large-scale data sets | \n",
    "| Databricks | Cloud-based platform for processing and analyzing big data using Apache Spark |"
   ]
  },
  {
   "cell_type": "markdown",
   "metadata": {},
   "source": [
    "### Arithmetic Expressions ###\n",
    "Arithmetic expressions are a fundamental part of mathematics and programming. In mathematics, arithmetic expressions are used to represent numeric calculations, such as addition, subtraction, multiplication, and division. In programming, arithmetic expressions are used to perform calculations on numerical data types, such as integers and floating-point numbers \n",
    "\n",
    "#### Examples of arithmetic expressions:"
   ]
  },
  {
   "cell_type": "markdown",
   "metadata": {},
   "source": [
    "1) 2 + 3: addition of 2 and 3, which evaluates to 5.\n",
    "2) 5 - 2: subtraction of 2 from 5, which evaluates to 3.\n",
    "3) 4 * 6: multiplication of 4 and 6, which evaluates to 24.\n",
    "4) 10 / 2: division of 10 by 2, which evaluates to 5.\n",
    "5) 3 ** 4: exponentiation of 3 to the power of 4, which evaluates to 81\n",
    "\n",
    "These examples demonstrate the basic arithmetic operators in Python, which are + (addition), - (subtraction), * (multiplication), / (division) and ** (exponentiation). By combining these operators with numeric operands, we can create complex arithmetic expressions that perform various calculations"
   ]
  },
  {
   "cell_type": "markdown",
   "metadata": {},
   "source": [
    "### Multiplies and Adds numbers ###"
   ]
  },
  {
   "cell_type": "code",
   "execution_count": 10,
   "metadata": {},
   "outputs": [
    {
     "name": "stdout",
     "output_type": "stream",
     "text": [
      "12\n",
      "17\n"
     ]
    }
   ],
   "source": [
    "# multiply two numbers\n",
    "a = 3\n",
    "b = 4\n",
    "c = a * b\n",
    "print(c)\n",
    "\n",
    "# add two numbers\n",
    "x = 10\n",
    "y = 7\n",
    "z = x + y\n",
    "print(z)"
   ]
  },
  {
   "cell_type": "markdown",
   "metadata": {},
   "source": [
    "### Converts minutes to hours ###"
   ]
  },
  {
   "cell_type": "code",
   "execution_count": 11,
   "metadata": {},
   "outputs": [
    {
     "name": "stdout",
     "output_type": "stream",
     "text": [
      "2.4166666666666665\n"
     ]
    }
   ],
   "source": [
    "# convert minutes to hours\n",
    "minutes = 145\n",
    "hours = minutes / 60\n",
    "print(hours)"
   ]
  },
  {
   "cell_type": "markdown",
   "metadata": {},
   "source": [
    "### Objectives ###\n",
    "1) To introduce learners to the fundamentals of data science and full-stack web development.\n",
    "2) To provide hands-on experience with popular data science tools and libraries, such as Python, NumPy, Pandas, and Matplotlib.\n",
    "3) To teach learners how to build and deploy web applications using HTML, CSS, JavaScript, and popular frameworks such as React and Node.js.\n",
    "4) To equip learners with the skills and knowledge to analyze data, build predictive models, and make data-driven decisions.\n",
    "5) To help learners develop their critical thinking and problem-solving skills, as well as their ability to communicate complex technical concepts to non-technical stakeholders.\n",
    "\n",
    "By the end of this program, learners would have a strong foundation in data science and full-stack web development and be able to apply these skills to real-world problems and projects."
   ]
  },
  {
   "cell_type": "markdown",
   "metadata": {},
   "source": [
    "#### Author: Nafisa Lawal Idris ####"
   ]
  },
  {
   "cell_type": "markdown",
   "metadata": {},
   "source": [
    "[Link to My GitHub](https://github.com/elfeenah)"
   ]
  }
 ],
 "metadata": {
  "kernelspec": {
   "display_name": "Python",
   "language": "python",
   "name": "conda-env-python-py"
  },
  "language_info": {
   "codemirror_mode": {
    "name": "ipython",
    "version": 3
   },
   "file_extension": ".py",
   "mimetype": "text/x-python",
   "name": "python",
   "nbconvert_exporter": "python",
   "pygments_lexer": "ipython3",
   "version": "3.7.12"
  }
 },
 "nbformat": 4,
 "nbformat_minor": 4
}
